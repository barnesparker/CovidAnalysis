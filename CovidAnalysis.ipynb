{
 "cells": [
  {
   "cell_type": "code",
   "execution_count": 2,
   "metadata": {},
   "outputs": [],
   "source": [
    "# load libraries\n",
    "import pandas as pd\n",
    "import numpy as np\n",
    "import seaborn as sns\n",
    "from sklearn.model_selection import train_test_split\n",
    "from sklearn.naive_bayes import MultinomialNB, BernoulliNB\n",
    "from sklearn.ensemble import RandomForestClassifier, GradientBoostingClassifier\n",
    "from sklearn.linear_model import LogisticRegression\n",
    "from sklearn.tree import DecisionTreeClassifier\n",
    "from sklearn.svm import SVC\n",
    "from sklearn.model_selection import GridSearchCV\n",
    "from sklearn.metrics import confusion_matrix, classification_report, f1_score, precision_score, recall_score, accuracy_score, balanced_accuracy_score"
   ]
  },
  {
   "cell_type": "markdown",
   "metadata": {},
   "source": [
    "# Introduction\n",
    "Amid, the Covid-19 worldwide pandemic, there is much controversy over the amount of response, drastic or otherwise, is warranted during this time. Some of the major points of discussion thrown around are the death rate and the risk factors. Namely, age, race, and underlying medical conditions. With this analysis, we will build a model to predict whether somebody will die of covid-19 given some basic patient level demographic data. We'll also determine some of the major risk factors associated with covid-19 mortality."
   ]
  },
  {
   "cell_type": "markdown",
   "metadata": {},
   "source": [
    "# Exploratory Data Analysis\n",
    "\n",
    "The data comes from the official CDC API (Hence it is all from the USA). It was created on May 20, 2020 and it is updated on a montly basis. The temporal span of the data is from Jan 1, 2020 to November 19, 2020. There are over 8 million rows in the dataset. We will only sample a few hundred thousand rows of those for our analysis. There are 11 columns included:\n",
    "\n",
    "Target: \n",
    "    \n",
    "1. `death_yn` - did the individual die?\n",
    "        \n",
    "Features:\n",
    "    \n",
    "1.\t`cdc_report_dt` – date case was reported to CDC\n",
    "2.\t`pos_spec_dt` – date of first pos specimen collection\n",
    "3.\t`onset_dt` – symptom onset date, if symptomatic\n",
    "4.\t`current_status` – Laboratory-confirmed case or probable case?\n",
    "5.\t`sex`\n",
    "6.\t`age_group`\n",
    "7.\t`race_and_ethnicity`\n",
    "8.\t`hosp_yn` – admitted to hospital or not\n",
    "9.\t`icu_yn` – admitted to icu or not\n",
    "10.\t`medcond_yn` – did they have an underlying comorbidity or disease?"
   ]
  },
  {
   "cell_type": "code",
   "execution_count": 3,
   "metadata": {},
   "outputs": [
    {
     "name": "stderr",
     "output_type": "stream",
     "text": [
      "C:\\Users\\barne\\anaconda3\\lib\\site-packages\\IPython\\core\\interactiveshell.py:3071: DtypeWarning: Columns (1) have mixed types.Specify dtype option on import or set low_memory=False.\n",
      "  has_raised = await self.run_ast_nodes(code_ast.body, cell_name,\n"
     ]
    }
   ],
   "source": []
  },
  {
   "cell_type": "code",
   "execution_count": null,
   "metadata": {},
   "outputs": [],
   "source": [
    "# covid = pd.read_csv(\"covid_data_all.csv\")"
   ]
  },
  {
   "cell_type": "code",
   "execution_count": null,
   "metadata": {},
   "outputs": [],
   "source": [
    "url = \"https://data.cdc.gov/resource/vbim-akqf.csv?$limit=8000000\"\n",
    "# this takes a while to read the results, careful re-running it\n",
    "covid = pd.read_csv(url)\n"
   ]
  },
  {
   "cell_type": "markdown",
   "metadata": {},
   "source": [
    "Here we separate by people who died and survived, and then sample 150000 from each group. We then sample 50000 irrespective of whether they died or not.\n",
    "\n",
    "Note: Because there are far more people who survive covid-19, we will be oversampling deaths from the data. This will help our model train better. However, when we test the model, we will predict on random raw data."
   ]
  },
  {
   "cell_type": "code",
   "execution_count": 4,
   "metadata": {},
   "outputs": [],
   "source": [
    "surv = covid[covid.death_yn == \"No\"]\n",
    "died = covid[covid.death_yn == \"Yes\"]\n",
    "surv_samp = surv.sample(150000)\n",
    "died_samp = died.sample(150000)\n",
    "cov_random = covid[covid.death_yn.isin(['Yes', 'No'])].sample(50000)"
   ]
  },
  {
   "cell_type": "markdown",
   "metadata": {},
   "source": [
    "Next we concatenate the data all together and label the rows by the sampling method"
   ]
  },
  {
   "cell_type": "code",
   "execution_count": 5,
   "metadata": {},
   "outputs": [],
   "source": [
    "covid_samp = pd.concat([surv_samp, died_samp])\n",
    "covid_samp['set'] = 'Over Sampled'\n",
    "cov_random['set'] = 'Random'\n",
    "covid_samp = pd.concat([covid_samp, cov_random])"
   ]
  },
  {
   "cell_type": "markdown",
   "metadata": {},
   "source": [
    "We convert the date columns to datetime objects to make them easier to work with"
   ]
  },
  {
   "cell_type": "code",
   "execution_count": 6,
   "metadata": {},
   "outputs": [],
   "source": [
    "covid_samp.onset_dt = pd.to_datetime(covid_samp.onset_dt)\n",
    "covid_samp.cdc_report_dt = pd.to_datetime(covid_samp.cdc_report_dt)\n",
    "covid_samp.death_yn = np.where(covid_samp.death_yn == \"No\", 0, 1)"
   ]
  },
  {
   "cell_type": "markdown",
   "metadata": {},
   "source": [
    "Next we create a new variable `time_report` that takes the number of days between the date of symptom onset and cdc report date. Then, bucketize into several time ranges, adding an N/A group for rows where a date was missing."
   ]
  },
  {
   "cell_type": "code",
   "execution_count": 7,
   "metadata": {},
   "outputs": [],
   "source": [
    "covid_samp['time_report'] = (covid_samp.cdc_report_dt - covid_samp.onset_dt) / np.timedelta64(1, 'D')\n",
    "covid_samp.time_report = np.where(covid_samp.time_report < 0, np.nan, covid_samp.time_report)\n",
    "cut_bins = [-.1, 1, 5, 10, 20, 50, np.inf]\n",
    "covid_samp.time_report = pd.cut(covid_samp.time_report, bins=cut_bins)\n",
    "covid_samp.time_report = np.where(covid_samp.time_report.isnull(), \"N/A\", covid_samp.time_report)"
   ]
  },
  {
   "cell_type": "markdown",
   "metadata": {},
   "source": [
    "This is a visualization of survivals and deaths based on age. We see that people who die are FAR more likely to be elderly than young. \n",
    "\n",
    "**NOTE**: This chart and the ones to follow do NOT represent probabilities that a person in each group will die. Because of our over sampling method, we are actually visualizing a conditional distribution. i.e. GIVEN that someone survived/died, what is the likelihood distribution of their ages?"
   ]
  },
  {
   "cell_type": "code",
   "execution_count": 19,
   "metadata": {},
   "outputs": [
    {
     "data": {
      "text/plain": [
       "<matplotlib.axes._subplots.AxesSubplot at 0x1e7a5aa97f0>"
      ]
     },
     "execution_count": 19,
     "metadata": {},
     "output_type": "execute_result"
    },
    {
     "data": {
      "image/png": "[encoded data removed]",
      "text/plain": [
       "<Figure size 432x288 with 1 Axes>"
      ]
     },
     "metadata": {
      "needs_background": "light"
     },
     "output_type": "display_data"
    }
   ],
   "source": [
    "order_labs = ['0 - 9 Years', '10 - 19 Years', '20 - 29 Years', '30 - 39 Years', '40 - 49 Years', '50 - 59 Years',\n",
    "              '60 - 69 Years', '70 - 79 Years', '80+ Years']\n",
    "sns.countplot(y=\"age_group\", hue='death_yn', data=covid_samp[covid_samp.set == \"Over Sampled\"], order=order_labs)"
   ]
  },
  {
   "cell_type": "markdown",
   "metadata": {},
   "source": [
    "This is what our regularly sampled age group data looks like. We see that far more people survive than die in all age groups. However, our data may still be biased, since some of our death indicators were missing unkown. (We can reasonably infer that most missing and unknown data points in the death column are survivals)"
   ]
  },
  {
   "cell_type": "code",
   "execution_count": 25,
   "metadata": {},
   "outputs": [
    {
     "data": {
      "text/plain": [
       "<matplotlib.axes._subplots.AxesSubplot at 0x1e7a5ddda60>"
      ]
     },
     "execution_count": 25,
     "metadata": {},
     "output_type": "execute_result"
    },
    {
     "data": {
      "image/png": "[encoded data removed]",
      "text/plain": [
       "<Figure size 432x288 with 1 Axes>"
      ]
     },
     "metadata": {
      "needs_background": "light"
     },
     "output_type": "display_data"
    }
   ],
   "source": [
    "sns.countplot(y=\"age_group\", hue='death_yn', data=covid_samp[covid_samp.set == \"Random\"], order=order_labs)"
   ]
  },
  {
   "cell_type": "markdown",
   "metadata": {},
   "source": [
    "Here is a similar chart showing deaths by race. Again, this is a posterior distribution indicating the likelihood of the race, rather than if they died or not. It appears that blacks have the highest ratio of deaths versus survivals, suggesting that blacks are most at risk of death from covid-19"
   ]
  },
  {
   "cell_type": "code",
   "execution_count": 28,
   "metadata": {},
   "outputs": [
    {
     "data": {
      "text/plain": [
       "<matplotlib.axes._subplots.AxesSubplot at 0x1e7a5de6d60>"
      ]
     },
     "execution_count": 28,
     "metadata": {},
     "output_type": "execute_result"
    },
    {
     "data": {
      "image/png": "[encoded data removed]",
      "text/plain": [
       "<Figure size 432x288 with 1 Axes>"
      ]
     },
     "metadata": {
      "needs_background": "light"
     },
     "output_type": "display_data"
    }
   ],
   "source": [
    "sns.countplot(y=\"Race and ethnicity (combined)\", hue='death_yn', data=covid_samp[covid_samp.set == \"Over Sampled\"])"
   ]
  },
  {
   "cell_type": "markdown",
   "metadata": {},
   "source": [
    "Here are the deaths and survivals by whether the individual had a documented underlying medical condition:"
   ]
  },
  {
   "cell_type": "code",
   "execution_count": 22,
   "metadata": {},
   "outputs": [
    {
     "data": {
      "text/plain": [
       "<matplotlib.axes._subplots.AxesSubplot at 0x1e7a5bcc760>"
      ]
     },
     "execution_count": 22,
     "metadata": {},
     "output_type": "execute_result"
    },
    {
     "data": {
      "image/png": "[encoded data removed]",
      "text/plain": [
       "<Figure size 432x288 with 1 Axes>"
      ]
     },
     "metadata": {
      "needs_background": "light"
     },
     "output_type": "display_data"
    }
   ],
   "source": [
    "sns.countplot(y=\"medcond_yn\", hue='death_yn', data=covid_samp[covid_samp.set == \"Over Sampled\"])"
   ]
  },
  {
   "cell_type": "markdown",
   "metadata": {},
   "source": [
    "This chart shows that most of the values were missing, so we aren't sure what the true distribution should look like. However, the data do suggest that that those that die are more likely to have had a medical condition."
   ]
  },
  {
   "cell_type": "markdown",
   "metadata": {},
   "source": [
    "The next chart separates by time it takes to report. We have a lot of missing values here, but there is some indication that people who die tend to have longer period between symptom onset and cdc report date."
   ]
  },
  {
   "cell_type": "code",
   "execution_count": 8,
   "metadata": {},
   "outputs": [
    {
     "data": {
      "text/plain": [
       "<matplotlib.axes._subplots.AxesSubplot at 0x1e786818130>"
      ]
     },
     "execution_count": 8,
     "metadata": {},
     "output_type": "execute_result"
    },
    {
     "data": {
      "image/png": "[encoded data removed]",
      "text/plain": [
       "<Figure size 432x288 with 1 Axes>"
      ]
     },
     "metadata": {
      "needs_background": "light"
     },
     "output_type": "display_data"
    }
   ],
   "source": [
    "sns.countplot(y=\"time_report\", hue='death_yn', data=covid_samp[covid_samp.set == \"Over Sampled\"])"
   ]
  },
  {
   "cell_type": "markdown",
   "metadata": {},
   "source": [
    "Lastly we have deaths and survivals separated by hospitalizations. Here we see a patient who dies is way more likely to have been hospitalized than not. But it's also possible those that are hospitalized are more clearly reported in the data than those who aren't."
   ]
  },
  {
   "cell_type": "code",
   "execution_count": 24,
   "metadata": {},
   "outputs": [
    {
     "data": {
      "text/plain": [
       "<matplotlib.axes._subplots.AxesSubplot at 0x1e7a5b25910>"
      ]
     },
     "execution_count": 24,
     "metadata": {},
     "output_type": "execute_result"
    },
    {
     "data": {
      "image/png": "[encoded data removed]",
      "text/plain": [
       "<Figure size 432x288 with 1 Axes>"
      ]
     },
     "metadata": {
      "needs_background": "light"
     },
     "output_type": "display_data"
    }
   ],
   "source": [
    "sns.countplot(y=\"hosp_yn\", hue='death_yn', data=covid_samp[covid_samp.set == \"Over Sampled\"])"
   ]
  },
  {
   "cell_type": "markdown",
   "metadata": {},
   "source": [
    "# Methods & Results\n",
    "\n",
    "Now we will split our data back into the oversampled and random data. These become our training and testing sets. We then split into features and labels. These dataframes are what we feed into the algorithms for training. The test labels are what we compare our predictions against:"
   ]
  },
  {
   "cell_type": "code",
   "execution_count": 9,
   "metadata": {},
   "outputs": [],
   "source": [
    "not_include = ['death_yn', 'cdc_report_dt', 'pos_spec_dt', 'onset_dt', 'set']\n",
    "overSampled = covid_samp[covid_samp.set == \"Over Sampled\"]\n",
    "randomData = covid_samp[covid_samp.set == 'Random']\n",
    "X_train = pd.get_dummies(overSampled.drop(columns=not_include))\n",
    "X_test = pd.get_dummies(randomData.drop(columns=not_include))\n",
    "y_train = overSampled.death_yn\n",
    "y_test = randomData.death_yn"
   ]
  },
  {
   "cell_type": "markdown",
   "metadata": {},
   "source": [
    "Now we train several different machine learning methods. These are some of the more commonly used methods because they are very powerful and protect against overfitting. \n",
    "\n",
    "With each of our models we calculated the following measures:\n",
    "\n",
    "* Precision: The ratio of correctly predicted deaths out of the total predicted deaths\n",
    "* Recall: The ratio of correctly predicted deaths out of the  total actual deaths\n",
    "* Accuracy: The ratio of correctly predicted deaths or survivals out of all the predictions\n",
    "* Balanced Accuracy: Similar to accuracy, but weighted based on the number of actual deaths or survivals. This measure is very relevant to us because in our randomly selected data, there were far more survivals than deaths, so we want to adjust our accuracy to account for the unbalanced nature."
   ]
  },
  {
   "cell_type": "code",
   "execution_count": 14,
   "metadata": {},
   "outputs": [
    {
     "name": "stdout",
     "output_type": "stream",
     "text": [
      "Naive Bayes Trained\n",
      "Decision Tree Trained\n",
      "Random Forest Trained\n",
      "Gradient Boosting Trained\n",
      "Logistic Regression Trained\n"
     ]
    },
    {
     "name": "stderr",
     "output_type": "stream",
     "text": [
      "C:\\Users\\barne\\anaconda3\\lib\\site-packages\\sklearn\\linear_model\\_logistic.py:762: ConvergenceWarning: lbfgs failed to converge (status=1):\n",
      "STOP: TOTAL NO. of ITERATIONS REACHED LIMIT.\n",
      "\n",
      "Increase the number of iterations (max_iter) or scale the data as shown in:\n",
      "    https://scikit-learn.org/stable/modules/preprocessing.html\n",
      "Please also refer to the documentation for alternative solver options:\n",
      "    https://scikit-learn.org/stable/modules/linear_model.html#logistic-regression\n",
      "  n_iter_i = _check_optimize_result(\n"
     ]
    },
    {
     "data": {
      "text/html": [
       "<div>\n",
       "<style scoped>\n",
       "    .dataframe tbody tr th:only-of-type {\n",
       "        vertical-align: middle;\n",
       "    }\n",
       "\n",
       "    .dataframe tbody tr th {\n",
       "        vertical-align: top;\n",
       "    }\n",
       "\n",
       "    .dataframe thead th {\n",
       "        text-align: right;\n",
       "    }\n",
       "</style>\n",
       "<table border=\"1\" class=\"dataframe\">\n",
       "  <thead>\n",
       "    <tr style=\"text-align: right;\">\n",
       "      <th></th>\n",
       "      <th>Precision</th>\n",
       "      <th>Recall</th>\n",
       "      <th>Accuracy</th>\n",
       "      <th>Weighted Accuracy</th>\n",
       "      <th>w2</th>\n",
       "    </tr>\n",
       "  </thead>\n",
       "  <tbody>\n",
       "    <tr>\n",
       "      <th>Naive Bayes</th>\n",
       "      <td>0.266415</td>\n",
       "      <td>0.904355</td>\n",
       "      <td>0.87888</td>\n",
       "      <td>0.781983</td>\n",
       "      <td>0.890992</td>\n",
       "    </tr>\n",
       "    <tr>\n",
       "      <th>Decision Tree</th>\n",
       "      <td>0.308186</td>\n",
       "      <td>0.943638</td>\n",
       "      <td>0.89814</td>\n",
       "      <td>0.839542</td>\n",
       "      <td>0.919771</td>\n",
       "    </tr>\n",
       "    <tr>\n",
       "      <th>Random Forest</th>\n",
       "      <td>0.305609</td>\n",
       "      <td>0.944492</td>\n",
       "      <td>0.89688</td>\n",
       "      <td>0.839032</td>\n",
       "      <td>0.919516</td>\n",
       "    </tr>\n",
       "    <tr>\n",
       "      <th>Gradient Boosting</th>\n",
       "      <td>0.296431</td>\n",
       "      <td>0.936379</td>\n",
       "      <td>0.89292</td>\n",
       "      <td>0.827164</td>\n",
       "      <td>0.913582</td>\n",
       "    </tr>\n",
       "    <tr>\n",
       "      <th>Logistic Regression</th>\n",
       "      <td>0.299629</td>\n",
       "      <td>0.929974</td>\n",
       "      <td>0.89490</td>\n",
       "      <td>0.823151</td>\n",
       "      <td>0.911575</td>\n",
       "    </tr>\n",
       "  </tbody>\n",
       "</table>\n",
       "</div>"
      ],
      "text/plain": [
       "                     Precision    Recall  Accuracy  Weighted Accuracy  \\\n",
       "Naive Bayes           0.266415  0.904355   0.87888           0.781983   \n",
       "Decision Tree         0.308186  0.943638   0.89814           0.839542   \n",
       "Random Forest         0.305609  0.944492   0.89688           0.839032   \n",
       "Gradient Boosting     0.296431  0.936379   0.89292           0.827164   \n",
       "Logistic Regression   0.299629  0.929974   0.89490           0.823151   \n",
       "\n",
       "                           w2  \n",
       "Naive Bayes          0.890992  \n",
       "Decision Tree        0.919771  \n",
       "Random Forest        0.919516  \n",
       "Gradient Boosting    0.913582  \n",
       "Logistic Regression  0.911575  "
      ]
     },
     "execution_count": 14,
     "metadata": {},
     "output_type": "execute_result"
    }
   ],
   "source": [
    "# Train each model and print out metrics\n",
    "models = {'Naive Bayes': BernoulliNB(), \n",
    "          'Decision Tree': DecisionTreeClassifier(),\n",
    "          'Random Forest': RandomForestClassifier(), \n",
    "          'Gradient Boosting': GradientBoostingClassifier(),\n",
    "          'Logistic Regression': LogisticRegression(),\n",
    "         }\n",
    "results = pd.DataFrame()\n",
    "for name, model in models.items():\n",
    "    model.fit(X_train, y_train)\n",
    "    preds = model.predict(X_test)\n",
    "    result = pd.Series([precision_score(y_test, preds), recall_score(y_test, preds), \n",
    "                    accuracy_score(y_test, preds), balanced_accuracy_score(y_test, preds, adjusted=True)])\n",
    "    print(\"{} Trained\".format(name))\n",
    "    result.name = name\n",
    "    results = results.append(result)\n",
    "    \n",
    "    \n",
    "results.columns = ['Precision', 'Recall', 'Accuracy', 'Weighted Accuracy']\n",
    "results\n",
    "    "
   ]
  },
  {
   "cell_type": "markdown",
   "metadata": {},
   "source": [
    "This table shows that overall, most actual deaths are predicted (recall), but if a death is predicted, there's only about a 30% chance that the person actually died (precision). roughly 89% of the time a correct prediction is made (accuracy). But if we account for the imbalance in the data, our accuracy drops to around 80%.\n",
    "\n",
    "Surprisingly, the model that performed best with weighted accuracy was the Decision Tree, but it was right on par with the random forest. We will continue with the decision tree because it is a much quicker and simpler model."
   ]
  },
  {
   "cell_type": "markdown",
   "metadata": {},
   "source": [
    "We will now tune the decision tree to see if we can improve the balanced accuracy. We will adjust the minimum samples per leaf parameter to be each value from 1 to 10, retrain the model, and calculate balanced accuracy."
   ]
  },
  {
   "cell_type": "code",
   "execution_count": 42,
   "metadata": {
    "scrolled": true
   },
   "outputs": [
    {
     "name": "stdout",
     "output_type": "stream",
     "text": [
      "0    1.00000\n",
      "1    0.83929\n",
      "dtype: float64\n",
      "0    2.000000\n",
      "1    0.838813\n",
      "dtype: float64\n",
      "0    3.000000\n",
      "1    0.836833\n",
      "dtype: float64\n",
      "0    4.000000\n",
      "1    0.836735\n",
      "dtype: float64\n",
      "0    5.000000\n",
      "1    0.837064\n",
      "dtype: float64\n",
      "0    6.00000\n",
      "1    0.83572\n",
      "dtype: float64\n",
      "0    7.000000\n",
      "1    0.836134\n",
      "dtype: float64\n",
      "0    8.00000\n",
      "1    0.83656\n",
      "dtype: float64\n",
      "0    9.000000\n",
      "1    0.836883\n",
      "dtype: float64\n",
      "0    10.000000\n",
      "1     0.835322\n",
      "dtype: float64\n"
     ]
    },
    {
     "data": {
      "text/html": [
       "<div>\n",
       "<style scoped>\n",
       "    .dataframe tbody tr th:only-of-type {\n",
       "        vertical-align: middle;\n",
       "    }\n",
       "\n",
       "    .dataframe tbody tr th {\n",
       "        vertical-align: top;\n",
       "    }\n",
       "\n",
       "    .dataframe thead th {\n",
       "        text-align: right;\n",
       "    }\n",
       "</style>\n",
       "<table border=\"1\" class=\"dataframe\">\n",
       "  <thead>\n",
       "    <tr style=\"text-align: right;\">\n",
       "      <th></th>\n",
       "      <th>minimum samples per leaf</th>\n",
       "      <th>Balanced Accuracy</th>\n",
       "    </tr>\n",
       "  </thead>\n",
       "  <tbody>\n",
       "    <tr>\n",
       "      <th>0</th>\n",
       "      <td>1.0</td>\n",
       "      <td>0.839290</td>\n",
       "    </tr>\n",
       "    <tr>\n",
       "      <th>1</th>\n",
       "      <td>2.0</td>\n",
       "      <td>0.838813</td>\n",
       "    </tr>\n",
       "    <tr>\n",
       "      <th>2</th>\n",
       "      <td>3.0</td>\n",
       "      <td>0.836833</td>\n",
       "    </tr>\n",
       "    <tr>\n",
       "      <th>3</th>\n",
       "      <td>4.0</td>\n",
       "      <td>0.836735</td>\n",
       "    </tr>\n",
       "    <tr>\n",
       "      <th>4</th>\n",
       "      <td>5.0</td>\n",
       "      <td>0.837064</td>\n",
       "    </tr>\n",
       "    <tr>\n",
       "      <th>5</th>\n",
       "      <td>6.0</td>\n",
       "      <td>0.835720</td>\n",
       "    </tr>\n",
       "    <tr>\n",
       "      <th>6</th>\n",
       "      <td>7.0</td>\n",
       "      <td>0.836134</td>\n",
       "    </tr>\n",
       "    <tr>\n",
       "      <th>7</th>\n",
       "      <td>8.0</td>\n",
       "      <td>0.836560</td>\n",
       "    </tr>\n",
       "    <tr>\n",
       "      <th>8</th>\n",
       "      <td>9.0</td>\n",
       "      <td>0.836883</td>\n",
       "    </tr>\n",
       "    <tr>\n",
       "      <th>9</th>\n",
       "      <td>10.0</td>\n",
       "      <td>0.835322</td>\n",
       "    </tr>\n",
       "  </tbody>\n",
       "</table>\n",
       "</div>"
      ],
      "text/plain": [
       "   minimum samples per leaf  Balanced Accuracy\n",
       "0                       1.0           0.839290\n",
       "1                       2.0           0.838813\n",
       "2                       3.0           0.836833\n",
       "3                       4.0           0.836735\n",
       "4                       5.0           0.837064\n",
       "5                       6.0           0.835720\n",
       "6                       7.0           0.836134\n",
       "7                       8.0           0.836560\n",
       "8                       9.0           0.836883\n",
       "9                      10.0           0.835322"
      ]
     },
     "execution_count": 42,
     "metadata": {},
     "output_type": "execute_result"
    }
   ],
   "source": [
    "cv_results = pd.DataFrame()\n",
    "for i in list(range(1,11)):\n",
    "    tree = DecisionTreeClassifier(min_samples_leaf=i)\n",
    "    tree.fit(X_train, y_train)\n",
    "    preds = tree.predict(X_test)\n",
    "    result = pd.Series([i, balanced_accuracy_score(y_test, preds, adjusted=True)])\n",
    "    cv_results = cv_results.append(result, ignore_index=True)\n",
    "    print(result)\n",
    "    \n",
    "cv_results.columns = ['minimum samples per leaf', 'Balanced Accuracy']\n",
    "cv_results.plot(x='minimum samples per leaf', y='Balanced Accuracy')"
   ]
  },
  {
   "cell_type": "markdown",
   "metadata": {},
   "source": [
    "It looks like a minimum sample of 1 per leaf is optimal. This is the default value."
   ]
  },
  {
   "cell_type": "markdown",
   "metadata": {},
   "source": [
    "As a last part of our analysis, we will look at feature importance. Decision trees have a convenient way of ranking the features on how they split the data, so this is a simple task."
   ]
  },
  {
   "cell_type": "code",
   "execution_count": 31,
   "metadata": {},
   "outputs": [
    {
     "data": {
      "text/plain": [
       "<matplotlib.axes._subplots.AxesSubplot at 0x1e7a60dab50>"
      ]
     },
     "execution_count": 31,
     "metadata": {},
     "output_type": "execute_result"
    },
    {
     "data": {
      "image/png": "[encoded data removed]",
      "text/plain": [
       "<Figure size 432x288 with 1 Axes>"
      ]
     },
     "metadata": {
      "needs_background": "light"
     },
     "output_type": "display_data"
    }
   ],
   "source": [
    "tree = DecisionTreeClassifier()\n",
    "tree.fit(X_train, y_train)\n",
    "tree_feat = pd.Series(tree.feature_importances_, index = X_train.columns)\n",
    "tree_feat.nlargest(15).plot(kind = 'barh')"
   ]
  },
  {
   "cell_type": "markdown",
   "metadata": {},
   "source": [
    "Based on the chart above, we see that the most important feature from our training set is whether the individual was hospitalized or not. The other crucial variable is age group. All other variables probably contribute to accuracy, but have a relatively negligible effect compared to the mentioned 2 variables."
   ]
  },
  {
   "cell_type": "markdown",
   "metadata": {},
   "source": [
    "# Conclusion\n",
    "From this analysis, we've looked at the CDC's data and visualized how quantity of deaths differ amongst different demographic groups. We built a model that can predict whether an individual basis. Because of the rarity of covid-deaths, our model predicted most deaths, but also predicted many people to die that would actually survive. Pragmatically, this is better than the reverse, because we would rather err on the careful side.\n",
    "\n",
    "Limitations: There are a fair amount of limitations we can point out from the analysis. First of all, the quality of the data was subpar. There were relatively few variables to inform our model. A more accuracte medical history would've greatly improved the analysis. Secondly, there were a significant amount of missing and unknown data that contributed to the uncertainty found in the predictions. Most of the missing data was not missing at random and so that likely introduced a lot of bias to the model. On the analysis side, I could've tuned my other models to see if I could get better results with them. I also could've performed a feature selection algorithm.\n",
    "\n",
    "Another question we might investigate further is how death rates change over time. As time goes on, we might infer that we get better at treating covid-19, and so that would affect how our model predicts. It's also reasonable that data collection changed at least slightly over time as data gathering methods became more accurate and reliable."
   ]
  }
 ],
 "metadata": {
  "kernelspec": {
   "display_name": "Python 3",
   "language": "python",
   "name": "python3"
  },
  "language_info": {
   "codemirror_mode": {
    "name": "ipython",
    "version": 3
   },
   "file_extension": ".py",
   "mimetype": "text/x-python",
   "name": "python",
   "nbconvert_exporter": "python",
   "pygments_lexer": "ipython3",
   "version": "3.8.3"
  }
 },
 "nbformat": 4,
 "nbformat_minor": 4
}
