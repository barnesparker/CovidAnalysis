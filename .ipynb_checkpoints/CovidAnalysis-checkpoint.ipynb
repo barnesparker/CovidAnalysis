{
 "cells": [
  {
   "cell_type": "code",
   "execution_count": 273,
   "metadata": {},
   "outputs": [],
   "source": [
    "# load libraries\n",
    "import pandas as pd\n",
    "import numpy as np\n",
    "import seaborn as sns\n",
    "from sklearn.model_selection import train_test_split\n",
    "from sklearn.naive_bayes import MultinomialNB, BernoulliNB\n",
    "from sklearn.ensemble import RandomForestClassifier, GradientBoostingClassifier\n",
    "from sklearn.linear_model import LogisticRegression\n",
    "from sklearn.tree import DecisionTreeClassifier\n",
    "from sklearn.svm import SVC\n",
    "from sklearn.model_selection import GridSearchCV\n",
    "from sklearn.metrics import confusion_matrix, classification_report, f1_score, precision_score, recall_score, accuracy_score, balanced_accuracy_score"
   ]
  },
  {
   "cell_type": "markdown",
   "metadata": {},
   "source": [
    "# Introduction\n",
    "Amid, the Covid-19 worldwide pandemic, there is much controversy over the amount of response, drastic or otherwise, is warranted during this time. Some of the major points of discussion thrown around are the death rate and the risk factors. Namely, age, race, and underlying medical conditions. With this analysis, we will build a model to predict whether somebody will die of covid-19 given some basic patient level demographic data."
   ]
  },
  {
   "cell_type": "markdown",
   "metadata": {},
   "source": [
    "# Exploratory Data Analysis\n",
    "\n",
    "The data comes from the official CDC API (Hence it is all from the USA). It was created on May 20, 2020 and it is updated on a montly basis. The temporal span of the data is from Jan 1, 2020 to November 19, 2020. There are over 8 million rows in the dataset. We will only scrape about 5 million of those and then we will sample from those. There are 11 columns included:\n",
    "\n",
    "Target: \n",
    "    \n",
    "1. `death_yn` - did the patient die or not?\n",
    "        \n",
    "Features:\n",
    "    \n",
    "1.\t`cdc_report_dt` – date case was reported to CDC\n",
    "2.\t`pos_spec_dt` – date of first pos specimen collection\n",
    "3.\t`onset_dt` – symptom onset date, if symptomatic\n",
    "4.\t`current_status` – Laboratory-confirmed case or probable case?\n",
    "5.\t`sex`\n",
    "6.\t`age_group`\n",
    "7.\t`race_and_ethnicity`\n",
    "8.\t`hosp_yn` – admitted to hospital or not\n",
    "9.\t`icu_yn` – admitted to icu or not\n",
    "10.\t`medcond_yn` – did they have an underlying comorbidity or disease?"
   ]
  },
  {
   "cell_type": "code",
   "execution_count": 5,
   "metadata": {},
   "outputs": [
    {
     "name": "stderr",
     "output_type": "stream",
     "text": [
      "C:\\Users\\barne\\anaconda3\\lib\\site-packages\\IPython\\core\\interactiveshell.py:3071: DtypeWarning: Columns (1) have mixed types.Specify dtype option on import or set low_memory=False.\n",
      "  has_raised = await self.run_ast_nodes(code_ast.body, cell_name,\n"
     ]
    }
   ],
   "source": [
    "covid = pd.read_csv(\"covid_data_all.csv\")"
   ]
  },
  {
   "cell_type": "code",
   "execution_count": null,
   "metadata": {},
   "outputs": [],
   "source": [
    "url = \"https://data.cdc.gov/resource/vbim-akqf.csv?$limit=5000000\"\n",
    "# this takes a while to read the results, careful re-running it\n",
    "covid = pd.read_csv(url)\n"
   ]
  },
  {
   "cell_type": "markdown",
   "metadata": {},
   "source": [
    "Here we separate by people who died and survived, and then sample 150000 from each group. We then sample 50000 irrespective of whether they died or not.\n",
    "\n",
    "Note: Because there are far more people who survive covid-19, we will be oversampling deaths from the data. This will help our model train better. However, when we test the model, we will predict on random raw data."
   ]
  },
  {
   "cell_type": "code",
   "execution_count": 259,
   "metadata": {},
   "outputs": [],
   "source": [
    "surv = covid[covid.death_yn == \"No\"]\n",
    "died = covid[covid.death_yn == \"Yes\"]\n",
    "surv_samp = surv.sample(150000)\n",
    "died_samp = died.sample(150000)\n",
    "cov_random = covid[covid.death_yn.isin(['Yes', 'No'])].sample(50000)"
   ]
  },
  {
   "cell_type": "markdown",
   "metadata": {},
   "source": [
    "Next we concatenate the data all together and label the rows by the sampling method"
   ]
  },
  {
   "cell_type": "code",
   "execution_count": 260,
   "metadata": {},
   "outputs": [],
   "source": [
    "covid_samp = pd.concat([surv_samp, died_samp])\n",
    "covid_samp['set'] = 'Over Sampled'\n",
    "cov_random['set'] = 'Random'\n",
    "covid_samp = pd.concat([covid_samp, cov_random])"
   ]
  },
  {
   "cell_type": "markdown",
   "metadata": {},
   "source": [
    "We convert the date columns to datetime objects to make them easier to work with"
   ]
  },
  {
   "cell_type": "code",
   "execution_count": 261,
   "metadata": {},
   "outputs": [],
   "source": [
    "covid_samp.onset_dt = pd.to_datetime(covid_samp.onset_dt)\n",
    "covid_samp.cdc_report_dt = pd.to_datetime(covid_samp.cdc_report_dt)\n",
    "covid_samp.death_yn = np.where(covid_samp.death_yn == \"No\", 0, 1)"
   ]
  },
  {
   "cell_type": "markdown",
   "metadata": {},
   "source": [
    "Next we create a new variable `time_report` that takes the number of days between the date of symptom onset and cdc report date. Then, bucketize into several time ranges, adding an N/A group for rows where a date was missing."
   ]
  },
  {
   "cell_type": "code",
   "execution_count": 262,
   "metadata": {},
   "outputs": [],
   "source": [
    "covid_samp['time_report'] = (covid_samp.cdc_report_dt - covid_samp.onset_dt) / np.timedelta64(1, 'D')\n",
    "covid_samp.time_report = np.where(covid_samp.time_report < 0, np.nan, covid_samp.time_report)\n",
    "cut_bins = [-.1, 1, 5, 10, 20, 50, np.inf]\n",
    "covid_samp.time_report = pd.cut(covid_samp.time_report, bins=cut_bins)\n",
    "covid_samp.time_report = np.where(covid_samp.time_report.isnull(), \"N/A\", covid_samp.time_report)"
   ]
  },
  {
   "cell_type": "markdown",
   "metadata": {},
   "source": [
    "This is a visualization of survivals and deaths based on age. We see that people who die are FAR more likely to be elderly than young. \n",
    "\n",
    "**NOTE**: This chart and the ones to follow do NOT represent probabilities that a person in each group will die. Because of our over sampling method, we are actually visualizing a conditional distribution. i.e. GIVEN that someone survived/died, what is the likelihood distribution of their ages?"
   ]
  },
  {
   "cell_type": "code",
   "execution_count": 263,
   "metadata": {},
   "outputs": [
    {
     "data": {
      "text/plain": [
       "<matplotlib.axes._subplots.AxesSubplot at 0x1ba820dc190>"
      ]
     },
     "execution_count": 263,
     "metadata": {},
     "output_type": "execute_result"
    },
    {
     "data": {
      "image/png": "[encoded data removed]",
      "text/plain": [
       "<Figure size 432x288 with 1 Axes>"
      ]
     },
     "metadata": {
      "needs_background": "light"
     },
     "output_type": "display_data"
    }
   ],
   "source": [
    "order_labs = ['0 - 9 Years', '10 - 19 Years', '20 - 29 Years', '30 - 39 Years', '40 - 49 Years', '50 - 59 Years',\n",
    "              '60 - 69 Years', '70 - 79 Years', '80+ Years']\n",
    "sns.countplot(y=\"age_group\", hue='death_yn', data=covid_samp[covid_samp.set == \"Over Sampled\"], order=order_labs)"
   ]
  },
  {
   "cell_type": "markdown",
   "metadata": {},
   "source": [
    "This is what our regularly sampled age group data looks like. We see that far more people survive than die in all age groups. However, our data may still be biased, since some of our death indicators were missing unkown. (We can reasonably infer that most missing and unknown data points in the death column are survivals)"
   ]
  },
  {
   "cell_type": "code",
   "execution_count": 250,
   "metadata": {},
   "outputs": [
    {
     "data": {
      "text/plain": [
       "<matplotlib.axes._subplots.AxesSubplot at 0x1ba8a071e80>"
      ]
     },
     "execution_count": 250,
     "metadata": {},
     "output_type": "execute_result"
    },
    {
     "data": {
      "image/png": "[encoded data removed]",
      "text/plain": [
       "<Figure size 432x288 with 1 Axes>"
      ]
     },
     "metadata": {
      "needs_background": "light"
     },
     "output_type": "display_data"
    }
   ],
   "source": [
    "sns.countplot(y=\"age_group\", hue='death_yn', data=covid_samp[covid_samp.set == \"Random\"], order=order_labs)"
   ]
  },
  {
   "cell_type": "markdown",
   "metadata": {},
   "source": [
    "Here is a similar chart showing deaths by race. Again, this is a posterior distribution indicating the likelihood of the race, rather than if they died or not. It appears that blacks have the highest ratio of deaths versus survivals, suggesting that blacks are most at risk of death from covid-19"
   ]
  },
  {
   "cell_type": "code",
   "execution_count": 252,
   "metadata": {},
   "outputs": [
    {
     "data": {
      "text/plain": [
       "<matplotlib.axes._subplots.AxesSubplot at 0x1ba8b36cb20>"
      ]
     },
     "execution_count": 252,
     "metadata": {},
     "output_type": "execute_result"
    },
    {
     "data": {
      "image/png": "[encoded data removed]",
      "text/plain": [
       "<Figure size 432x288 with 1 Axes>"
      ]
     },
     "metadata": {
      "needs_background": "light"
     },
     "output_type": "display_data"
    }
   ],
   "source": [
    "sns.countplot(y=\"Race and ethnicity (combined)\", hue='death_yn', data=covid_samp[covid_samp.set == \"Over Sampled\"])"
   ]
  },
  {
   "cell_type": "markdown",
   "metadata": {},
   "source": [
    "Lastly we look at the deaths and survivals by whether the individual had a documented underlying medical condition:"
   ]
  },
  {
   "cell_type": "code",
   "execution_count": 258,
   "metadata": {},
   "outputs": [
    {
     "data": {
      "text/plain": [
       "<matplotlib.axes._subplots.AxesSubplot at 0x1baa0cbda00>"
      ]
     },
     "execution_count": 258,
     "metadata": {},
     "output_type": "execute_result"
    },
    {
     "data": {
      "image/png": "[encoded data removed]",
      "text/plain": [
       "<Figure size 432x288 with 1 Axes>"
      ]
     },
     "metadata": {
      "needs_background": "light"
     },
     "output_type": "display_data"
    }
   ],
   "source": [
    "sns.countplot(y=\"medcond_yn\", hue='death_yn', data=covid_samp[covid_samp.set == \"Over Sampled\"])"
   ]
  },
  {
   "cell_type": "markdown",
   "metadata": {},
   "source": [
    "This chart shows that most of the values were missing, so we aren't sure what the true distribution should look like. However, the data do suggest that that those that die are more likely to have had a medical condition."
   ]
  },
  {
   "cell_type": "markdown",
   "metadata": {},
   "source": [
    "# Methods & Results\n",
    "\n",
    "Now we will split our data back into the oversampled and random data. These become our training and testing sets. We then split into features and labels. These dataframes are what we feed into the algorithms for training. The test labels are what we compare our predictions against:"
   ]
  },
  {
   "cell_type": "code",
   "execution_count": 243,
   "metadata": {},
   "outputs": [],
   "source": [
    "not_include = ['death_yn', 'cdc_report_dt', 'pos_spec_dt', 'onset_dt', 'set']\n",
    "overSampled = covid_samp[covid_samp.set == \"Over Sampled\"]\n",
    "randomData = covid_samp[covid_samp.set == 'Random']\n",
    "X_train = pd.get_dummies(overSampled.drop(columns=not_include))\n",
    "X_test = pd.get_dummies(randomData.drop(columns=not_include))\n",
    "y_train = overSampled.death_yn\n",
    "y_test = randomData.death_yn\n",
    "LogisticRegression()"
   ]
  },
  {
   "cell_type": "markdown",
   "metadata": {},
   "source": [
    "Now we train several different machine learning methods. These are some of the more commonly used methods because they are very powerful and protect against overfitting. "
   ]
  },
  {
   "cell_type": "code",
   "execution_count": null,
   "metadata": {},
   "outputs": [
    {
     "name": "stdout",
     "output_type": "stream",
     "text": [
      "0    0.727494\n",
      "1    0.811952\n",
      "2    0.902320\n",
      "3    0.736647\n",
      "Name: Naive Bayes, dtype: float64\n",
      "0    0.785686\n",
      "1    0.793208\n",
      "2    0.916020\n",
      "3    0.739636\n",
      "Name: Decision Tree, dtype: float64\n"
     ]
    },
    {
     "name": "stderr",
     "output_type": "stream",
     "text": [
      "C:\\Users\\barne\\anaconda3\\lib\\site-packages\\sklearn\\linear_model\\_logistic.py:762: ConvergenceWarning: lbfgs failed to converge (status=1):\n",
      "STOP: TOTAL NO. of ITERATIONS REACHED LIMIT.\n",
      "\n",
      "Increase the number of iterations (max_iter) or scale the data as shown in:\n",
      "    https://scikit-learn.org/stable/modules/preprocessing.html\n",
      "Please also refer to the documentation for alternative solver options:\n",
      "    https://scikit-learn.org/stable/modules/linear_model.html#logistic-regression\n",
      "  n_iter_i = _check_optimize_result(\n"
     ]
    },
    {
     "name": "stdout",
     "output_type": "stream",
     "text": [
      "0    0.800727\n",
      "1    0.755215\n",
      "2    0.914120\n",
      "3    0.708680\n",
      "Name: Logistic Regression, dtype: float64\n"
     ]
    }
   ],
   "source": [
    "# Train each model and print out metrics\n",
    "models = {'Naive Bayes': BernoulliNB(), \n",
    "          'Decision Tree': DecisionTreeClassifier(),\n",
    "          'Random Forest': RandomForestClassifier(), \n",
    "          'Gradient Boosting': GradientBoostingClassifier(),\n",
    "          'Logistic Regression': LogisticRegression(),\n",
    "         }\n",
    "results = pd.DataFrame()\n",
    "for name, model in models.items():\n",
    "    model.fit(X_train, y_train)\n",
    "    preds = model.predict(X_test)\n",
    "    result = pd.Series([precision_score(y_test, preds), recall_score(y_test, preds), \n",
    "                    accuracy_score(y_test, preds), balanced_accuracy_score(y_test, preds, adjusted=True)])\n",
    "    print(name)\n",
    "    print(result)\n",
    "    print(\"Confusion Matrix:\\n {}\".format(confusion_matrix(y_test, preds)))\n",
    "    result.name = name\n",
    "    results = results.append(result)\n",
    "    \n",
    "    \n",
    "results.columns = ['Precision', 'Recall', 'Accuracy', 'Weighted Accuracy']\n",
    "results\n",
    "    "
   ]
  },
  {
   "cell_type": "code",
   "execution_count": 192,
   "metadata": {},
   "outputs": [
    {
     "data": {
      "text/plain": [
       "1    27934\n",
       "0    22066\n",
       "Name: death_yn, dtype: int64"
      ]
     },
     "execution_count": 192,
     "metadata": {},
     "output_type": "execute_result"
    }
   ],
   "source": [
    "random_data_actual.value_counts()"
   ]
  }
 ],
 "metadata": {
  "kernelspec": {
   "display_name": "Python 3",
   "language": "python",
   "name": "python3"
  },
  "language_info": {
   "codemirror_mode": {
    "name": "ipython",
    "version": 3
   },
   "file_extension": ".py",
   "mimetype": "text/x-python",
   "name": "python",
   "nbconvert_exporter": "python",
   "pygments_lexer": "ipython3",
   "version": "3.8.3"
  }
 },
 "nbformat": 4,
 "nbformat_minor": 4
}
